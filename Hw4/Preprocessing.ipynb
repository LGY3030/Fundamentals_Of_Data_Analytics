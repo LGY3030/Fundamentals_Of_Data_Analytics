{
 "cells": [
  {
   "cell_type": "code",
   "execution_count": 5,
   "metadata": {},
   "outputs": [],
   "source": [
    "import pandas as pd"
   ]
  },
  {
   "cell_type": "code",
   "execution_count": 24,
   "metadata": {},
   "outputs": [],
   "source": [
    "# 讀取online_shoppers_intention.csv\n",
    "online_shoppers_intention=pd.read_csv(\"online_shoppers_intention.csv\")\n",
    "\n",
    "# 將 'Month' 的資料換為數字\n",
    "online_shoppers_intention['Month'].replace('May',5,inplace=True)\n",
    "online_shoppers_intention['Month'].replace('Nov',11,inplace=True)\n",
    "online_shoppers_intention['Month'].replace('Mar',3,inplace=True)\n",
    "online_shoppers_intention['Month'].replace('Dec',12,inplace=True)\n",
    "online_shoppers_intention['Month'].replace('Oct',10,inplace=True)\n",
    "online_shoppers_intention['Month'].replace('Sep',9,inplace=True)\n",
    "online_shoppers_intention['Month'].replace('Aug',8,inplace=True)\n",
    "online_shoppers_intention['Month'].replace('Jul',7,inplace=True)\n",
    "online_shoppers_intention['Month'].replace('June',6,inplace=True)\n",
    "online_shoppers_intention['Month'].replace('Feb',2,inplace=True)\n",
    "\n",
    "# 將 'VisitorTyp' 的資料換為數字\n",
    "# 'Returning_Visitor' --> 0\n",
    "# 'New_Visitor' --> 1\n",
    "# 'Other' --> 2\n",
    "online_shoppers_intention['VisitorType'].replace('Returning_Visitor',0,inplace=True)\n",
    "online_shoppers_intention['VisitorType'].replace('New_Visitor',1,inplace=True)\n",
    "online_shoppers_intention['VisitorType'].replace('Other',2,inplace=True)\n",
    "\n",
    "# 將 'Weekend' 的資料換為數字\n",
    "# False --> 0\n",
    "# True --> 1\n",
    "online_shoppers_intention['Weekend'].replace(False,0,inplace=True)\n",
    "online_shoppers_intention['Weekend'].replace(True,1,inplace=True)\n",
    "\n",
    "# 將 'Revenue' 的資料換為數字\n",
    "# False --> 0\n",
    "# True --> 1\n",
    "online_shoppers_intention['Revenue'].replace(False,0,inplace=True)\n",
    "online_shoppers_intention['Revenue'].replace(True,1,inplace=True)\n",
    "\n",
    "# 儲存檔案\n",
    "online_shoppers_intention.to_csv(\"data_preprocessed.csv\", encoding='utf_8_sig')"
   ]
  },
  {
   "cell_type": "code",
   "execution_count": null,
   "metadata": {},
   "outputs": [],
   "source": []
  }
 ],
 "metadata": {
  "kernelspec": {
   "display_name": "Python 3",
   "language": "python",
   "name": "python3"
  },
  "language_info": {
   "codemirror_mode": {
    "name": "ipython",
    "version": 3
   },
   "file_extension": ".py",
   "mimetype": "text/x-python",
   "name": "python",
   "nbconvert_exporter": "python",
   "pygments_lexer": "ipython3",
   "version": "3.5.5"
  }
 },
 "nbformat": 4,
 "nbformat_minor": 2
}
