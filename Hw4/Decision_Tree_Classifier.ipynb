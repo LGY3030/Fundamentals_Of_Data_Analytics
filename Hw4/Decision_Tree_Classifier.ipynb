{
 "cells": [
  {
   "cell_type": "code",
   "execution_count": 1,
   "metadata": {},
   "outputs": [],
   "source": [
    "import pandas as pd\n",
    "from sklearn.tree import DecisionTreeClassifier\n",
    "from sklearn.tree import export_graphviz\n",
    "import os\n",
    "from graphviz import Source\n",
    "import matplotlib.image as mpimg\n",
    "from matplotlib import pyplot as plt"
   ]
  },
  {
   "cell_type": "code",
   "execution_count": 2,
   "metadata": {},
   "outputs": [
    {
     "name": "stdout",
     "output_type": "stream",
     "text": [
      "Decision Tree Result Accuracy: 84.39999999999999 %\n"
     ]
    },
    {
     "data": {
      "image/png": "[encoded data removed]",
      "text/plain": [
       "<Figure size 432x288 with 1 Axes>"
      ]
     },
     "metadata": {},
     "output_type": "display_data"
    }
   ],
   "source": [
    "#使用Decision Tree分類器\n",
    "\n",
    "# 讀取data_preprocessed.csv\n",
    "data=pd.read_csv(\"data_preprocessed.csv\")\n",
    "data=data.drop([\"Unnamed: 0\"], axis=1)\n",
    "\n",
    "# 將資料分為train_x,train_y,test_x,test_y\n",
    "columns=list(data.columns)\n",
    "columns.remove('Revenue')\n",
    "train_x=data[columns]\n",
    "train_y=data[['Revenue']]\n",
    "test_x=train_x[-1000:]\n",
    "test_y=train_y[-1000:]\n",
    "train_x=train_x[:-1000]\n",
    "train_y=train_y[:-1000]\n",
    "test_x=test_x.reset_index()\n",
    "test_y=test_y.reset_index()\n",
    "test_x=test_x.drop([\"index\"], axis=1)\n",
    "test_y=test_y.drop([\"index\"], axis=1)\n",
    "\n",
    "#建立Decision Tree分類器\n",
    "tree=DecisionTreeClassifier(criterion='entropy',max_depth=3,random_state=0)\n",
    "tree.fit(train_x,train_y)\n",
    "\n",
    "#預測測試資料\n",
    "DecisionTreeResult=pd.DataFrame(tree.predict(test_x))\n",
    "DecisionTreeResult.columns=['Revenue']\n",
    "\n",
    "#此為測試資料的正確解答\n",
    "OriginalResult=pd.DataFrame(test_y.values.reshape(-1))\n",
    "OriginalResult.columns=['Revenue']\n",
    "\n",
    "#計算有幾個數據正確\n",
    "DecisionTreeResultCorrect=0\n",
    "for i in range(OriginalResult.shape[0]):\n",
    "    if DecisionTreeResult['Revenue'][i]==OriginalResult['Revenue'][i]:\n",
    "        DecisionTreeResultCorrect=DecisionTreeResultCorrect+1\n",
    "        \n",
    "#計算準確度\n",
    "DecisionTreeResultAcc=(DecisionTreeResultCorrect/OriginalResult.shape[0])*100\n",
    "print('Decision Tree Result Accuracy: '+str(DecisionTreeResultAcc)+' %')\n",
    "\n",
    "#輸出Decision Tree圖\n",
    "export_graphviz(tree,out_file='tree.dot',feature_names=columns)\n",
    "\n",
    "#將.dot檔轉換為png檔,並開啟\n",
    "os.environ[\"PATH\"] += os.pathsep + 'D://Graphviz2.38/bin/'\n",
    "s=Source.from_file('tree.dot',format=\"png\")\n",
    "temp=os.system('dot -Tpng tree.dot -o tree.png')\n",
    "img = mpimg.imread('tree.png')\n",
    "plt.imshow(img)\n",
    "plt.show()\n"
   ]
  },
  {
   "cell_type": "code",
   "execution_count": 3,
   "metadata": {},
   "outputs": [
    {
     "data": {
      "text/plain": [
       "array([0.        , 0.        , 0.        , 0.        , 0.01324909,\n",
       "       0.        , 0.0525466 , 0.        , 0.82597418, 0.        ,\n",
       "       0.10823013, 0.        , 0.        , 0.        , 0.        ,\n",
       "       0.        , 0.        ])"
      ]
     },
     "execution_count": 3,
     "metadata": {},
     "output_type": "execute_result"
    }
   ],
   "source": [
    "tree.feature_importances_"
   ]
  },
  {
   "cell_type": "code",
   "execution_count": 4,
   "metadata": {},
   "outputs": [
    {
     "name": "stdout",
     "output_type": "stream",
     "text": [
      "['Administrative', 'Administrative_Duration', 'Informational', 'Informational_Duration', 'ProductRelated', 'ProductRelated_Duration', 'BounceRates', 'ExitRates', 'PageValues', 'SpecialDay', 'Month', 'OperatingSystems', 'Browser', 'Region', 'TrafficType', 'VisitorType', 'Weekend']\n"
     ]
    }
   ],
   "source": [
    "print(columns)"
   ]
  },
  {
   "cell_type": "code",
   "execution_count": null,
   "metadata": {},
   "outputs": [],
   "source": []
  }
 ],
 "metadata": {
  "kernelspec": {
   "display_name": "Python 3",
   "language": "python",
   "name": "python3"
  },
  "language_info": {
   "codemirror_mode": {
    "name": "ipython",
    "version": 3
   },
   "file_extension": ".py",
   "mimetype": "text/x-python",
   "name": "python",
   "nbconvert_exporter": "python",
   "pygments_lexer": "ipython3",
   "version": "3.5.5"
  }
 },
 "nbformat": 4,
 "nbformat_minor": 2
}
