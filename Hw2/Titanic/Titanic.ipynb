{
 "cells": [
  {
   "cell_type": "code",
   "execution_count": 49,
   "metadata": {},
   "outputs": [],
   "source": [
    "import pandas as pd\n",
    "from sklearn.model_selection import train_test_split\n",
    "from sklearn.tree import DecisionTreeClassifier\n",
    "from sklearn.tree import export_graphviz\n",
    "from graphviz import Source\n",
    "import os\n",
    "import matplotlib.pyplot as plt\n",
    "import matplotlib.image as mpimg"
   ]
  },
  {
   "cell_type": "code",
   "execution_count": 50,
   "metadata": {},
   "outputs": [],
   "source": [
    "def readData():   \n",
    "    get_data=pd.read_excel(\"Titanic_Data.xls\")\n",
    "\n",
    "    column=[\"survived\",\"pclass\",\"sex\",\"age\",\"sibsp\",\"parch\",\"fare\"]\n",
    "    # survived:是否存活\n",
    "    # pclass: 住的艙等\n",
    "    # sex: 性別\n",
    "    # age: 年齡\n",
    "    # sibsp: 兄弟姊妹＋老婆丈夫數量\n",
    "    # parch: 父母小孩的數量\n",
    "    # fare: 票的費用\n",
    "\n",
    "    get_data=get_data[column]\n",
    "    \n",
    "\n",
    "    #填補nan\n",
    "    age_mean=get_data['age'].mean()\n",
    "    get_data['age']=get_data['age'].fillna(age_mean)\n",
    "\n",
    "    #填補nan\n",
    "    fare_mean=get_data['fare'].mean()\n",
    "    get_data['fare']=get_data['fare'].fillna(fare_mean)\n",
    "\n",
    "    #轉換性別為1和0\n",
    "    get_data['sex']=get_data['sex'].map({'female':0,'male':1}).astype(int)\n",
    "\n",
    "    \n",
    "    return get_data"
   ]
  },
  {
   "cell_type": "code",
   "execution_count": 51,
   "metadata": {},
   "outputs": [],
   "source": [
    "#讀出資料\n",
    "data=readData()\n",
    "\n",
    "#將資料分為features和target(survived)\n",
    "column_list=list(data.columns.values)\n",
    "column_list.remove('survived')\n",
    "data_x=data[column_list]\n",
    "data_y=data[['survived']]\n",
    "\n",
    "#將資料分為訓練資料和測試資料\n",
    "train_x,test_x,train_y,test_y=train_test_split(data_x,data_y,test_size=0.3,random_state=0)\n",
    "train_x=train_x.reset_index()\n",
    "test_x=test_x.reset_index()\n",
    "train_y=train_y.reset_index()\n",
    "test_y=test_y.reset_index()\n",
    "train_x=train_x.drop([\"index\"], axis=1)\n",
    "test_x=test_x.drop([\"index\"], axis=1)\n",
    "train_y=train_y.drop([\"index\"], axis=1)\n",
    "test_y=test_y.drop([\"index\"], axis=1)"
   ]
  },
  {
   "cell_type": "code",
   "execution_count": 52,
   "metadata": {
    "scrolled": true
   },
   "outputs": [],
   "source": [
    "#我自己自訂的rule\n",
    "\n",
    "data_get=[]\n",
    "df=pd.DataFrame(columns=[\"survived\"])\n",
    "\n",
    "#當sex==1時\n",
    "    #age>=50\n",
    "        #parch>=2\n",
    "            #活\n",
    "        #sibsp>=2\n",
    "            #活\n",
    "        #此外\n",
    "            #死\n",
    "    #age<=15\n",
    "        #parch>=2\n",
    "            #活\n",
    "        #sibsp>=2\n",
    "            #活\n",
    "        #此外\n",
    "            #死\n",
    "    #15<age<50\n",
    "        #活\n",
    "\n",
    "#當sex==0時\n",
    "    #fare>=50\n",
    "        #活\n",
    "    #fare<50\n",
    "        #parch>=2\n",
    "            #活\n",
    "        #sibsp>=2\n",
    "            #活\n",
    "        #此外\n",
    "            #死\n",
    "    \n",
    "for i in range(test_x.shape[0]):\n",
    "    if test_x['sex'][i]==1:\n",
    "        if test_x['age'][i]>=50:\n",
    "            if test_x['parch'][i]>=2:\n",
    "                data_get.append({\"survived\":1})\n",
    "            elif test_x['sibsp'][i]>=2:\n",
    "                data_get.append({\"survived\":1})\n",
    "            else:\n",
    "                data_get.append({\"survived\":0})\n",
    "        elif test_x['age'][i]<=15:\n",
    "            if test_x['parch'][i]>=2:\n",
    "                data_get.append({\"survived\":1})\n",
    "            elif test_x['sibsp'][i]>=2:\n",
    "                data_get.append({\"survived\":1})\n",
    "            else:\n",
    "                data_get.append({\"survived\":0})\n",
    "        else:\n",
    "            data_get.append({\"survived\":1})\n",
    "    else:\n",
    "        if test_x['fare'][i]>=50:\n",
    "            data_get.append({\"survived\":1})\n",
    "        else:\n",
    "            if test_x['parch'][i]>=2:\n",
    "                data_get.append({\"survived\":1})\n",
    "            elif test_x['sibsp'][i]>=2:\n",
    "                data_get.append({\"survived\":1})\n",
    "            else:\n",
    "                data_get.append({\"survived\":0})\n",
    "                \n",
    "#產生出csv檔\n",
    "df=pd.concat([pd.DataFrame(data_get), df], ignore_index=True,sort=True)\n",
    "df.to_csv(\"MyResult.csv\", encoding='utf_8_sig')"
   ]
  },
  {
   "cell_type": "code",
   "execution_count": 53,
   "metadata": {},
   "outputs": [
    {
     "data": {
      "image/png": "[encoded data removed]",
      "text/plain": [
       "<Figure size 432x288 with 1 Axes>"
      ]
     },
     "metadata": {},
     "output_type": "display_data"
    }
   ],
   "source": [
    "#使用Decision Tree分類器\n",
    "\n",
    "#建立Decision Tree分類器\n",
    "tree=DecisionTreeClassifier(criterion='entropy',max_depth=3,random_state=0)\n",
    "tree.fit(train_x,train_y)\n",
    "\n",
    "#預測測試資料\n",
    "DecisionTreeResult=pd.DataFrame(tree.predict(test_x))\n",
    "DecisionTreeResult.columns=['survived']\n",
    "DecisionTreeResult.to_csv(\"DecisionTreeResult.csv\", encoding='utf_8_sig')\n",
    "\n",
    "#此為測試資料的正確解答\n",
    "OriginalResult=pd.DataFrame(test_y.values.reshape(-1))\n",
    "OriginalResult.columns=['survived']\n",
    "OriginalResult.to_csv(\"OriginalResult.csv\", encoding='utf_8_sig')\n",
    "\n",
    "#輸出Decision Tree圖\n",
    "export_graphviz(tree,out_file='tree.dot',feature_names=column_list)\n",
    "\n",
    "#將.dot檔轉換為png檔,並開啟\n",
    "os.environ[\"PATH\"] += os.pathsep + 'D://Graphviz2.38/bin/'\n",
    "s=Source.from_file('tree.dot',format=\"png\")\n",
    "img = mpimg.imread('tree.dot.png')\n",
    "plt.imshow(img)\n",
    "plt.show()"
   ]
  },
  {
   "cell_type": "code",
   "execution_count": 54,
   "metadata": {},
   "outputs": [
    {
     "data": {
      "text/plain": [
       "array([0.2247905 , 0.59449224, 0.04272083, 0.0655803 , 0.        ,\n",
       "       0.07241612])"
      ]
     },
     "execution_count": 54,
     "metadata": {},
     "output_type": "execute_result"
    }
   ],
   "source": [
    "tree.feature_importances_"
   ]
  },
  {
   "cell_type": "code",
   "execution_count": 55,
   "metadata": {},
   "outputs": [
    {
     "name": "stdout",
     "output_type": "stream",
     "text": [
      "My Result Accuracy: 34.605597964376585 %\n",
      "Decision Tree Result Accuracy: 81.1704834605598 %\n"
     ]
    }
   ],
   "source": [
    "#準確度\n",
    "\n",
    "#讀檔案\n",
    "MyResult=pd.read_csv(\"MyResult.csv\")\n",
    "DecisionTreeResult=pd.read_csv(\"DecisionTreeResult.csv\")\n",
    "OriginalResult=pd.read_csv(\"OriginalResult.csv\")\n",
    "MyResult=MyResult.drop([\"Unnamed: 0\"], axis=1)\n",
    "DecisionTreeResult=DecisionTreeResult.drop([\"Unnamed: 0\"], axis=1)\n",
    "OriginalResult=OriginalResult.drop([\"Unnamed: 0\"], axis=1)\n",
    "\n",
    "#計算有幾個數據正確\n",
    "MyResultCorrect=0\n",
    "DecisionTreeResultCorrect=0\n",
    "for i in range(OriginalResult.shape[0]):\n",
    "    if MyResult['survived'][i]==OriginalResult['survived'][i]:\n",
    "        MyResultCorrect=MyResultCorrect+1\n",
    "    if DecisionTreeResult['survived'][i]==OriginalResult['survived'][i]:\n",
    "        DecisionTreeResultCorrect=DecisionTreeResultCorrect+1\n",
    "        \n",
    "#計算準確度\n",
    "MyResultAcc=(MyResultCorrect/OriginalResult.shape[0])*100\n",
    "DecisionTreeResultAcc=(DecisionTreeResultCorrect/OriginalResult.shape[0])*100\n",
    "\n",
    "print('My Result Accuracy: '+str(MyResultAcc)+' %')\n",
    "print('Decision Tree Result Accuracy: '+str(DecisionTreeResultAcc)+' %')\n"
   ]
  },
  {
   "cell_type": "code",
   "execution_count": null,
   "metadata": {},
   "outputs": [],
   "source": []
  }
 ],
 "metadata": {
  "kernelspec": {
   "display_name": "Python 3",
   "language": "python",
   "name": "python3"
  },
  "language_info": {
   "codemirror_mode": {
    "name": "ipython",
    "version": 3
   },
   "file_extension": ".py",
   "mimetype": "text/x-python",
   "name": "python",
   "nbconvert_exporter": "python",
   "pygments_lexer": "ipython3",
   "version": "3.5.5"
  }
 },
 "nbformat": 4,
 "nbformat_minor": 2
}
