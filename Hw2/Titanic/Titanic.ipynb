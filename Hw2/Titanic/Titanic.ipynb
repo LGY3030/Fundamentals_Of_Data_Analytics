{
 "cells": [
  {
   "cell_type": "code",
   "execution_count": 1,
   "metadata": {},
   "outputs": [],
   "source": [
    "import pandas as pd\n",
    "from sklearn.model_selection import train_test_split\n",
    "from sklearn.tree import DecisionTreeClassifier\n",
    "from sklearn.tree import export_graphviz\n",
    "from graphviz import Source\n",
    "import os"
   ]
  },
  {
   "cell_type": "code",
   "execution_count": 2,
   "metadata": {},
   "outputs": [],
   "source": [
    "def readData():   \n",
    "    get_data=pd.read_excel(\"Titanic_Data.xls\")\n",
    "\n",
    "    column=[\"survived\",\"name\",\"pclass\",\"sex\",\"age\",\"sibsp\",\"parch\",\"fare\",\"embarked\"]\n",
    "    # survived:是否存活\n",
    "    # name: 姓名\n",
    "    # pclass: 住的艙等\n",
    "    # sex: 性別\n",
    "    # age: 年齡\n",
    "    # sibsp: 兄弟姊妹＋老婆丈夫數量\n",
    "    # parch: 父母小孩的數量\n",
    "    # fare: 票的費用\n",
    "    # embarked: 哪個港口出發\n",
    "\n",
    "    get_data=get_data[column]\n",
    "    \n",
    "    get_data=get_data.drop(['name'],axis=1)\n",
    "\n",
    "    #填補nan\n",
    "    age_mean=get_data['age'].mean()\n",
    "    get_data['age']=get_data['age'].fillna(age_mean)\n",
    "\n",
    "    #填補nan\n",
    "    fare_mean=get_data['fare'].mean()\n",
    "    get_data['fare']=get_data['fare'].fillna(fare_mean)\n",
    "\n",
    "    #轉換性別為1和0\n",
    "    get_data['sex']=get_data['sex'].map({'female':0,'male':1}).astype(int)\n",
    "\n",
    "    #將embarked轉為One hot形式\n",
    "    get_data=pd.get_dummies(data=get_data,columns=[\"embarked\"])\n",
    "    \n",
    "    return get_data"
   ]
  },
  {
   "cell_type": "code",
   "execution_count": 17,
   "metadata": {},
   "outputs": [
    {
     "name": "stdout",
     "output_type": "stream",
     "text": [
      "Error: 74/393 個\n",
      "Accuracy: 81.1704834605598 %\n"
     ]
    },
    {
     "data": {
      "text/plain": [
       "'tree.dot.png'"
      ]
     },
     "execution_count": 17,
     "metadata": {},
     "output_type": "execute_result"
    }
   ],
   "source": [
    "#讀出資料\n",
    "data=readData()\n",
    "\n",
    "#將資料分為features和target(survived)\n",
    "column_list=list(data.columns.values)\n",
    "column_list.remove('survived')\n",
    "data_x=data[column_list]\n",
    "data_y=data[['survived']]\n",
    "\n",
    "#將資料分為訓練資料和測試資料\n",
    "train_x,test_x,train_y,test_y=train_test_split(data_x,data_y,test_size=0.3,random_state=0)\n",
    "\n",
    "\n",
    "#建立Decision Tree分類器\n",
    "tree=DecisionTreeClassifier(criterion='entropy',max_depth=3,random_state=0)\n",
    "tree.fit(train_x,train_y)\n",
    "\n",
    "#預測測試資料\n",
    "tree.predict(test_x)\n",
    "\n",
    "#此為測試資料的正確解答\n",
    "test_y.values.reshape(-1)\n",
    "\n",
    "#看有幾個預測錯\n",
    "error=0\n",
    "for i,j in enumerate(tree.predict(test_x)):\n",
    "    if j != test_y.values.reshape(-1)[i]:\n",
    "        error=error+1\n",
    "print('Error: '+str(error)+'/'+str(test_y.shape[0])+' 個')\n",
    "\n",
    "#算出預測的準確度\n",
    "accuracy=(tree.score(test_x,test_y.values.reshape(-1)))*100\n",
    "print('Accuracy: '+str(accuracy)+' %')\n",
    "\n",
    "#輸出Decision Tree圖\n",
    "export_graphviz(tree,out_file='tree.dot',feature_names=column_list)\n",
    "\n",
    "#將.dot檔轉換為png檔,並開啟\n",
    "os.environ[\"PATH\"] += os.pathsep + 'D://Graphviz2.38/bin/'\n",
    "s=Source.from_file('tree.dot',format=\"png\")\n",
    "s.view()"
   ]
  },
  {
   "cell_type": "code",
   "execution_count": null,
   "metadata": {},
   "outputs": [],
   "source": []
  }
 ],
 "metadata": {
  "kernelspec": {
   "display_name": "Python 3",
   "language": "python",
   "name": "python3"
  },
  "language_info": {
   "codemirror_mode": {
    "name": "ipython",
    "version": 3
   },
   "file_extension": ".py",
   "mimetype": "text/x-python",
   "name": "python",
   "nbconvert_exporter": "python",
   "pygments_lexer": "ipython3",
   "version": "3.5.5"
  }
 },
 "nbformat": 4,
 "nbformat_minor": 2
}
