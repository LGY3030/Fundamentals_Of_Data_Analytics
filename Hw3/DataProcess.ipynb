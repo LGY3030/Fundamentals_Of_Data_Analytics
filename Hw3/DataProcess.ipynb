{
 "cells": [
  {
   "cell_type": "code",
   "execution_count": 14,
   "metadata": {},
   "outputs": [],
   "source": [
    "import pandas as pd"
   ]
  },
  {
   "cell_type": "code",
   "execution_count": 16,
   "metadata": {},
   "outputs": [
    {
     "name": "stderr",
     "output_type": "stream",
     "text": [
      "C:\\Users\\admin\\Anaconda3\\envs\\tensorflow\\lib\\site-packages\\ipykernel_launcher.py:8: SettingWithCopyWarning: \n",
      "A value is trying to be set on a copy of a slice from a DataFrame\n",
      "\n",
      "See the caveats in the documentation: http://pandas.pydata.org/pandas-docs/stable/indexing.html#indexing-view-versus-copy\n",
      "  \n",
      "C:\\Users\\admin\\Anaconda3\\envs\\tensorflow\\lib\\site-packages\\ipykernel_launcher.py:6: SettingWithCopyWarning: \n",
      "A value is trying to be set on a copy of a slice from a DataFrame\n",
      "\n",
      "See the caveats in the documentation: http://pandas.pydata.org/pandas-docs/stable/indexing.html#indexing-view-versus-copy\n",
      "  \n"
     ]
    }
   ],
   "source": [
    "# 將2009/1/2 ~ 2019/1/2的資料標上target,隔天Close Price漲則target=1,隔天Close Price跌則target=0\n",
    "data = pd.read_csv(\"data.csv\")\n",
    "data[\"target\"]=0\n",
    "for i in range(data.shape[0]-1):\n",
    "    if data[\"Close Price\"][i+1]>data[\"Close Price\"][i]:\n",
    "        data[\"target\"][i]=1\n",
    "    else:\n",
    "        data[\"target\"][i]=0\n",
    "\n",
    "# 將資料改為為2009/1/2 ~ 2018/12/31\n",
    "data=data[:-1]\n",
    "\n",
    "#將資料分為train(2009/1/2 ~ 2017/12/29)和test(2018/1/2 ~ 2018/12/31)\n",
    "data[\"Date\"] = pd.to_datetime(data[\"Date\"])\n",
    "index=data[data[\"Date\"]==\"2017-12-29\"].index.item()\n",
    "train=data[:index+1]\n",
    "test=data[index+1:]\n",
    "train=train.reset_index()\n",
    "test=test.reset_index()\n",
    "train=train.drop([\"index\"], axis=1)\n",
    "test=test.drop([\"index\"], axis=1)\n",
    "\n",
    "# 新增year,month,day,dayofweek 4個features,並刪除Date這個feature\n",
    "train[\"Year\"] = train[\"Date\"].dt.year\n",
    "train[\"Month\"] = train[\"Date\"].dt.month\n",
    "train[\"Day\"] = train[\"Date\"].dt.day\n",
    "train[\"Dayofweek\"] = train[\"Date\"].dt.dayofweek\n",
    "train=train.drop([\"Date\"], axis=1)\n",
    "\n",
    "test[\"Year\"] = test[\"Date\"].dt.year\n",
    "test[\"Month\"] = test[\"Date\"].dt.month\n",
    "test[\"Day\"] = test[\"Date\"].dt.day\n",
    "test[\"Dayofweek\"] = test[\"Date\"].dt.dayofweek\n",
    "test=test.drop([\"Date\"], axis=1)\n",
    "\n",
    "# 將train和test輸出為csv檔\n",
    "train.to_csv(\"train.csv\", encoding='utf_8_sig')\n",
    "test.to_csv(\"test.csv\", encoding='utf_8_sig') "
   ]
  },
  {
   "cell_type": "code",
   "execution_count": null,
   "metadata": {},
   "outputs": [],
   "source": []
  }
 ],
 "metadata": {
  "kernelspec": {
   "display_name": "Python 3",
   "language": "python",
   "name": "python3"
  },
  "language_info": {
   "codemirror_mode": {
    "name": "ipython",
    "version": 3
   },
   "file_extension": ".py",
   "mimetype": "text/x-python",
   "name": "python",
   "nbconvert_exporter": "python",
   "pygments_lexer": "ipython3",
   "version": "3.5.5"
  }
 },
 "nbformat": 4,
 "nbformat_minor": 2
}
